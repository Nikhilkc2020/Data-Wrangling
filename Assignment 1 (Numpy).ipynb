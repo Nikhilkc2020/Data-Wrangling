{
 "cells": [
  {
   "cell_type": "markdown",
   "metadata": {},
   "source": [
    "# Create a null vector of size 10 but the fifth value which is 1."
   ]
  },
  {
   "cell_type": "code",
   "execution_count": 2,
   "metadata": {},
   "outputs": [
    {
     "name": "stdout",
     "output_type": "stream",
     "text": [
      "[0 0 0 0 1 0 0 0 0 0]\n"
     ]
    }
   ],
   "source": [
    "import numpy as np\n",
    "arr = np.zeros(10,dtype = int)\n",
    "arr[4] = 1\n",
    "print(arr)"
   ]
  },
  {
   "cell_type": "markdown",
   "metadata": {},
   "source": [
    "# 2. Create a vector with values ranging from 10 to 49."
   ]
  },
  {
   "cell_type": "code",
   "execution_count": 3,
   "metadata": {},
   "outputs": [
    {
     "data": {
      "text/plain": [
       "array([10, 11, 12, 13, 14, 15, 16, 17, 18, 19, 20, 21, 22, 23, 24, 25, 26,\n",
       "       27, 28, 29, 30, 31, 32, 33, 34, 35, 36, 37, 38, 39, 40, 41, 42, 43,\n",
       "       44, 45, 46, 47, 48, 49])"
      ]
     },
     "execution_count": 3,
     "metadata": {},
     "output_type": "execute_result"
    }
   ],
   "source": [
    "v = np.arange(10,50)\n",
    "v"
   ]
  },
  {
   "cell_type": "markdown",
   "metadata": {},
   "source": [
    "# 3. Create a 3x3 matrix with values ranging from 0 to 8"
   ]
  },
  {
   "cell_type": "code",
   "execution_count": 4,
   "metadata": {},
   "outputs": [
    {
     "name": "stdout",
     "output_type": "stream",
     "text": [
      "[[0 1 2]\n",
      " [3 4 5]\n",
      " [6 7 8]]\n"
     ]
    }
   ],
   "source": [
    "arr=  np.arange(0, 9).reshape(3,3)\n",
    "print(arr)"
   ]
  },
  {
   "cell_type": "markdown",
   "metadata": {},
   "source": [
    "# 4. Find indices of non-zero elements from [1,2,0,0,4,0]"
   ]
  },
  {
   "cell_type": "code",
   "execution_count": 11,
   "metadata": {},
   "outputs": [
    {
     "name": "stdout",
     "output_type": "stream",
     "text": [
      "[1 2 0 0 4 0]\n",
      "(array([2, 3, 5], dtype=int64),)\n"
     ]
    }
   ],
   "source": [
    "arr = np.array([1,2,0,0,4,0])\n",
    "print(arr)\n",
    "x= np.nonzero(arr == 0)\n",
    "print(x)"
   ]
  },
  {
   "cell_type": "markdown",
   "metadata": {},
   "source": [
    "# 5. Create a 10x10 array with random values and find the minimum and maximum values."
   ]
  },
  {
   "cell_type": "code",
   "execution_count": 12,
   "metadata": {},
   "outputs": [
    {
     "name": "stdout",
     "output_type": "stream",
     "text": [
      "[[0.16104801 0.06445163 0.85142835 0.84800159 0.71047294 0.0498324\n",
      "  0.39451705 0.55476853 0.27606684 0.4640452 ]\n",
      " [0.90250952 0.59930628 0.9777464  0.05006492 0.53718161 0.13462498\n",
      "  0.28934736 0.08510308 0.80858732 0.41893222]\n",
      " [0.07045342 0.72545523 0.15985538 0.97330263 0.553792   0.34859852\n",
      "  0.49982175 0.0160296  0.50642453 0.0995928 ]\n",
      " [0.65381984 0.02749646 0.03046915 0.38465158 0.48477087 0.53903322\n",
      "  0.76871215 0.02817565 0.18051807 0.94394634]\n",
      " [0.37181019 0.18218561 0.29226335 0.10407716 0.29743339 0.83878475\n",
      "  0.12180201 0.99300573 0.77959585 0.37728355]\n",
      " [0.12122343 0.61329457 0.35709451 0.78035141 0.85650491 0.53337958\n",
      "  0.68635829 0.71558054 0.82600852 0.68731197]\n",
      " [0.76380484 0.70263586 0.23686942 0.65189708 0.27004509 0.42234169\n",
      "  0.97404334 0.7298186  0.72593013 0.37878054]\n",
      " [0.88746724 0.49890368 0.0306097  0.88118092 0.24985521 0.08651924\n",
      "  0.79031012 0.3965042  0.98091787 0.7165795 ]\n",
      " [0.65467751 0.71736582 0.99710463 0.98440194 0.60743524 0.38140256\n",
      "  0.13010383 0.47497786 0.96702587 0.17533964]\n",
      " [0.78807704 0.29068072 0.75676653 0.7436225  0.30165365 0.99766465\n",
      "  0.6853098  0.28743212 0.11630204 0.88211697]]\n",
      "0.01602960044106394\n",
      "0.9976646529762604\n"
     ]
    }
   ],
   "source": [
    "arr= np.random.random((10,10))\n",
    "print(arr)\n",
    "print(arr.min())\n",
    "print(arr.max())"
   ]
  },
  {
   "cell_type": "markdown",
   "metadata": {},
   "source": [
    "# 6. Create a random vector of size 30 and find the mean value."
   ]
  },
  {
   "cell_type": "code",
   "execution_count": 14,
   "metadata": {},
   "outputs": [
    {
     "name": "stdout",
     "output_type": "stream",
     "text": [
      "[0.14534964 0.54248466 0.13114089 0.63888379 0.52593111 0.81081307\n",
      " 0.13476525 0.28007753 0.34353447 0.26297194 0.89289597 0.65169628\n",
      " 0.93996658 0.99973684 0.99151439 0.23189943 0.34719425 0.98170944\n",
      " 0.03527589 0.46449045 0.49336266 0.22927219 0.45301924 0.31523422\n",
      " 0.78668116 0.66443285 0.23222154 0.40045354 0.56168101 0.88885459]\n",
      "0.5602995624637364\n"
     ]
    }
   ],
   "source": [
    "z = np.random.random(30)\n",
    "print(z)\n",
    "y = z.mean()\n",
    "print(mean)"
   ]
  },
  {
   "cell_type": "code",
   "execution_count": null,
   "metadata": {},
   "outputs": [],
   "source": []
  }
 ],
 "metadata": {
  "kernelspec": {
   "display_name": "Python 3",
   "language": "python",
   "name": "python3"
  },
  "language_info": {
   "codemirror_mode": {
    "name": "ipython",
    "version": 3
   },
   "file_extension": ".py",
   "mimetype": "text/x-python",
   "name": "python",
   "nbconvert_exporter": "python",
   "pygments_lexer": "ipython3",
   "version": "3.8.5"
  }
 },
 "nbformat": 4,
 "nbformat_minor": 4
}
